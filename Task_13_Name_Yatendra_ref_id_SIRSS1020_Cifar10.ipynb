{
  "nbformat": 4,
  "nbformat_minor": 0,
  "metadata": {
    "colab": {
      "name": "Task_13_Name_Yatendra_ref_id_SIRSS1020_Cifar10.ipynb",
      "provenance": []
    },
    "kernelspec": {
      "name": "python3",
      "display_name": "Python 3"
    },
    "language_info": {
      "name": "python"
    },
    "accelerator": "GPU"
  },
  "cells": [
    {
      "cell_type": "code",
      "metadata": {
        "id": "GcMPb8vnjIcV"
      },
      "source": [
        "import numpy\n",
        "import tensorflow as tf\n",
        "from keras.models import Sequential\n",
        "from keras.layers import Dense, Dropout, BatchNormalization, Activation,Flatten\n",
        "from keras.constraints import maxnorm\n",
        "from keras.utils import np_utils"
      ],
      "execution_count": 1,
      "outputs": []
    },
    {
      "cell_type": "code",
      "metadata": {
        "id": "3ruYpWp3jOJZ"
      },
      "source": [
        "seed=21   ####Random seed for purpose of reproductibility "
      ],
      "execution_count": 2,
      "outputs": []
    },
    {
      "cell_type": "code",
      "metadata": {
        "id": "ImgS4DsOsfuD"
      },
      "source": [
        "from keras.datasets import cifar10"
      ],
      "execution_count": 3,
      "outputs": []
    },
    {
      "cell_type": "code",
      "metadata": {
        "id": "3QvaVpJustyU"
      },
      "source": [
        "# Loading the data \n",
        "\n",
        "(x_train, y_train),(x_test, y_test)=cifar10.load_data()"
      ],
      "execution_count": 4,
      "outputs": []
    },
    {
      "cell_type": "code",
      "metadata": {
        "colab": {
          "base_uri": "https://localhost:8080/"
        },
        "id": "79tAeL0WtZW-",
        "outputId": "bf5d396c-03fe-4f5d-a1d4-b134855e7ad3"
      },
      "source": [
        "print(x_train[0])"
      ],
      "execution_count": 5,
      "outputs": [
        {
          "output_type": "stream",
          "text": [
            "[[[ 59  62  63]\n",
            "  [ 43  46  45]\n",
            "  [ 50  48  43]\n",
            "  ...\n",
            "  [158 132 108]\n",
            "  [152 125 102]\n",
            "  [148 124 103]]\n",
            "\n",
            " [[ 16  20  20]\n",
            "  [  0   0   0]\n",
            "  [ 18   8   0]\n",
            "  ...\n",
            "  [123  88  55]\n",
            "  [119  83  50]\n",
            "  [122  87  57]]\n",
            "\n",
            " [[ 25  24  21]\n",
            "  [ 16   7   0]\n",
            "  [ 49  27   8]\n",
            "  ...\n",
            "  [118  84  50]\n",
            "  [120  84  50]\n",
            "  [109  73  42]]\n",
            "\n",
            " ...\n",
            "\n",
            " [[208 170  96]\n",
            "  [201 153  34]\n",
            "  [198 161  26]\n",
            "  ...\n",
            "  [160 133  70]\n",
            "  [ 56  31   7]\n",
            "  [ 53  34  20]]\n",
            "\n",
            " [[180 139  96]\n",
            "  [173 123  42]\n",
            "  [186 144  30]\n",
            "  ...\n",
            "  [184 148  94]\n",
            "  [ 97  62  34]\n",
            "  [ 83  53  34]]\n",
            "\n",
            " [[177 144 116]\n",
            "  [168 129  94]\n",
            "  [179 142  87]\n",
            "  ...\n",
            "  [216 184 140]\n",
            "  [151 118  84]\n",
            "  [123  92  72]]]\n"
          ],
          "name": "stdout"
        }
      ]
    },
    {
      "cell_type": "code",
      "metadata": {
        "id": "aYB_ppiGtjBB"
      },
      "source": [
        "# Normalization Need to be done \n",
        "\n",
        "x_train=x_train.astype('float32')\n",
        "x_test=x_test.astype('float32')\n",
        "x_train=x_train/255.0\n",
        "x_test=x_test/255.0"
      ],
      "execution_count": 6,
      "outputs": []
    },
    {
      "cell_type": "code",
      "metadata": {
        "id": "MzMTZhOguN7g"
      },
      "source": [
        "y_train=np_utils.to_categorical(y_train)\n",
        "y_test=np_utils.to_categorical(y_test)\n",
        "class_num=y_test.shape[1]"
      ],
      "execution_count": 7,
      "outputs": []
    },
    {
      "cell_type": "code",
      "metadata": {
        "id": "GWihDGB88mOM"
      },
      "source": [
        "model=Sequential()"
      ],
      "execution_count": 8,
      "outputs": []
    },
    {
      "cell_type": "code",
      "metadata": {
        "id": "BYH_WWJ39pJC"
      },
      "source": [
        "from keras.layers.convolutional import Conv2D, MaxPooling2D"
      ],
      "execution_count": 9,
      "outputs": []
    },
    {
      "cell_type": "code",
      "metadata": {
        "id": "bKZJfGMu8qDM"
      },
      "source": [
        "# Convolution Layer\n",
        "model.add(Conv2D(32,(3,3),input_shape=x_train.shape[1:],padding='same'))\n",
        "model.add(Activation('relu'))\n",
        "#zero padding done"
      ],
      "execution_count": 10,
      "outputs": []
    },
    {
      "cell_type": "code",
      "metadata": {
        "id": "Yc6_tPnK9MJW"
      },
      "source": [
        "model.add(Dropout(0.2))"
      ],
      "execution_count": 11,
      "outputs": []
    },
    {
      "cell_type": "code",
      "metadata": {
        "id": "5Yepygv1-EJ9"
      },
      "source": [
        "model.add(BatchNormalization())"
      ],
      "execution_count": 12,
      "outputs": []
    },
    {
      "cell_type": "code",
      "metadata": {
        "id": "hjVE0ATX-OFi"
      },
      "source": [
        "# Now comes another convoultion layer\n",
        "\n",
        "model.add(Conv2D(64,(3,3),padding='same'))\n",
        "model.add(Activation('relu'))"
      ],
      "execution_count": 13,
      "outputs": []
    },
    {
      "cell_type": "code",
      "metadata": {
        "id": "57IJja_N-sip"
      },
      "source": [
        "# now with pooling layer\n",
        "\n",
        "model.add(MaxPooling2D(pool_size=(2,2)))\n",
        "model.add(Dropout(0.2))\n",
        "model.add(BatchNormalization())"
      ],
      "execution_count": 14,
      "outputs": []
    },
    {
      "cell_type": "code",
      "metadata": {
        "id": "Czyneqoa_Aaw"
      },
      "source": [
        "# Repeating the same \n",
        "model.add(Conv2D(64,(3,3),padding='same'))\n",
        "model.add(Activation('relu'))\n",
        "model.add(MaxPooling2D(pool_size=(2,2)))\n",
        "model.add(Dropout(0.2))\n",
        "model.add(BatchNormalization())\n",
        "\n",
        "\n",
        "model.add(Conv2D(128,(3,3),padding='same'))\n",
        "model.add(Activation('relu'))\n",
        "model.add(MaxPooling2D(pool_size=(2,2)))\n",
        "model.add(Dropout(0.2))\n",
        "model.add(BatchNormalization())\n"
      ],
      "execution_count": 15,
      "outputs": []
    },
    {
      "cell_type": "code",
      "metadata": {
        "id": "Wz475MxE_krg"
      },
      "source": [
        "# Need to flatter for 1D \n",
        "\n",
        "model.add(Flatten())\n",
        "model.add(Dropout(0.2))"
      ],
      "execution_count": 16,
      "outputs": []
    },
    {
      "cell_type": "code",
      "metadata": {
        "id": "xnsXA-m9_r1z"
      },
      "source": [
        "model.add(Dense(256,kernel_constraint=maxnorm(3)))\n",
        "model.add(Activation('relu'))\n",
        "model.add(Dropout(0.2))\n",
        "model.add(BatchNormalization())\n",
        "\n",
        "\n",
        "model.add(Dense(256,kernel_constraint=maxnorm(3)))\n",
        "model.add(Activation('relu'))\n",
        "model.add(Dropout(0.2))\n",
        "model.add(BatchNormalization())"
      ],
      "execution_count": 17,
      "outputs": []
    },
    {
      "cell_type": "code",
      "metadata": {
        "id": "sS3kNGkWADiJ"
      },
      "source": [
        "model.add(Dense(class_num))\n",
        "model.add(Activation('softmax'))\n"
      ],
      "execution_count": 18,
      "outputs": []
    },
    {
      "cell_type": "code",
      "metadata": {
        "id": "DgF7HOT-AixF"
      },
      "source": [
        "epochs=25\n",
        "optimizer='adam'"
      ],
      "execution_count": 19,
      "outputs": []
    },
    {
      "cell_type": "code",
      "metadata": {
        "id": "mYafRgTOAn-Q"
      },
      "source": [
        "model.compile(loss='categorical_crossentropy',optimizer=optimizer, metrics=['accuracy'])"
      ],
      "execution_count": 20,
      "outputs": []
    },
    {
      "cell_type": "code",
      "metadata": {
        "colab": {
          "base_uri": "https://localhost:8080/"
        },
        "id": "cmZhKv4-A6Fs",
        "outputId": "8a895fe8-4453-437f-c08b-0baf7f023033"
      },
      "source": [
        "print(model.summary())"
      ],
      "execution_count": 21,
      "outputs": [
        {
          "output_type": "stream",
          "text": [
            "Model: \"sequential\"\n",
            "_________________________________________________________________\n",
            "Layer (type)                 Output Shape              Param #   \n",
            "=================================================================\n",
            "conv2d (Conv2D)              (None, 32, 32, 32)        896       \n",
            "_________________________________________________________________\n",
            "activation (Activation)      (None, 32, 32, 32)        0         \n",
            "_________________________________________________________________\n",
            "dropout (Dropout)            (None, 32, 32, 32)        0         \n",
            "_________________________________________________________________\n",
            "batch_normalization (BatchNo (None, 32, 32, 32)        128       \n",
            "_________________________________________________________________\n",
            "conv2d_1 (Conv2D)            (None, 32, 32, 64)        18496     \n",
            "_________________________________________________________________\n",
            "activation_1 (Activation)    (None, 32, 32, 64)        0         \n",
            "_________________________________________________________________\n",
            "max_pooling2d (MaxPooling2D) (None, 16, 16, 64)        0         \n",
            "_________________________________________________________________\n",
            "dropout_1 (Dropout)          (None, 16, 16, 64)        0         \n",
            "_________________________________________________________________\n",
            "batch_normalization_1 (Batch (None, 16, 16, 64)        256       \n",
            "_________________________________________________________________\n",
            "conv2d_2 (Conv2D)            (None, 16, 16, 64)        36928     \n",
            "_________________________________________________________________\n",
            "activation_2 (Activation)    (None, 16, 16, 64)        0         \n",
            "_________________________________________________________________\n",
            "max_pooling2d_1 (MaxPooling2 (None, 8, 8, 64)          0         \n",
            "_________________________________________________________________\n",
            "dropout_2 (Dropout)          (None, 8, 8, 64)          0         \n",
            "_________________________________________________________________\n",
            "batch_normalization_2 (Batch (None, 8, 8, 64)          256       \n",
            "_________________________________________________________________\n",
            "conv2d_3 (Conv2D)            (None, 8, 8, 128)         73856     \n",
            "_________________________________________________________________\n",
            "activation_3 (Activation)    (None, 8, 8, 128)         0         \n",
            "_________________________________________________________________\n",
            "max_pooling2d_2 (MaxPooling2 (None, 4, 4, 128)         0         \n",
            "_________________________________________________________________\n",
            "dropout_3 (Dropout)          (None, 4, 4, 128)         0         \n",
            "_________________________________________________________________\n",
            "batch_normalization_3 (Batch (None, 4, 4, 128)         512       \n",
            "_________________________________________________________________\n",
            "flatten (Flatten)            (None, 2048)              0         \n",
            "_________________________________________________________________\n",
            "dropout_4 (Dropout)          (None, 2048)              0         \n",
            "_________________________________________________________________\n",
            "dense (Dense)                (None, 256)               524544    \n",
            "_________________________________________________________________\n",
            "activation_4 (Activation)    (None, 256)               0         \n",
            "_________________________________________________________________\n",
            "dropout_5 (Dropout)          (None, 256)               0         \n",
            "_________________________________________________________________\n",
            "batch_normalization_4 (Batch (None, 256)               1024      \n",
            "_________________________________________________________________\n",
            "dense_1 (Dense)              (None, 256)               65792     \n",
            "_________________________________________________________________\n",
            "activation_5 (Activation)    (None, 256)               0         \n",
            "_________________________________________________________________\n",
            "dropout_6 (Dropout)          (None, 256)               0         \n",
            "_________________________________________________________________\n",
            "batch_normalization_5 (Batch (None, 256)               1024      \n",
            "_________________________________________________________________\n",
            "dense_2 (Dense)              (None, 10)                2570      \n",
            "_________________________________________________________________\n",
            "activation_6 (Activation)    (None, 10)                0         \n",
            "=================================================================\n",
            "Total params: 726,282\n",
            "Trainable params: 724,682\n",
            "Non-trainable params: 1,600\n",
            "_________________________________________________________________\n",
            "None\n"
          ],
          "name": "stdout"
        }
      ]
    },
    {
      "cell_type": "code",
      "metadata": {
        "colab": {
          "base_uri": "https://localhost:8080/"
        },
        "id": "hQF4R-dPBBrJ",
        "outputId": "f6168e03-de67-423d-83fd-52e13b60f73c"
      },
      "source": [
        "numpy.random.seed(seed)\n",
        "result=model.fit(x_train,y_train,validation_data=(x_test,y_test),epochs=epochs,batch_size=64)"
      ],
      "execution_count": 22,
      "outputs": [
        {
          "output_type": "stream",
          "text": [
            "Epoch 1/25\n",
            "782/782 [==============================] - 56s 26ms/step - loss: 1.8983 - accuracy: 0.3478 - val_loss: 1.5709 - val_accuracy: 0.4681\n",
            "Epoch 2/25\n",
            "782/782 [==============================] - 19s 24ms/step - loss: 1.1955 - accuracy: 0.5678 - val_loss: 1.0174 - val_accuracy: 0.6410\n",
            "Epoch 3/25\n",
            "782/782 [==============================] - 19s 24ms/step - loss: 0.9695 - accuracy: 0.6572 - val_loss: 0.8462 - val_accuracy: 0.6998\n",
            "Epoch 4/25\n",
            "782/782 [==============================] - 19s 24ms/step - loss: 0.8408 - accuracy: 0.7005 - val_loss: 0.7504 - val_accuracy: 0.7379\n",
            "Epoch 5/25\n",
            "782/782 [==============================] - 18s 23ms/step - loss: 0.7625 - accuracy: 0.7328 - val_loss: 0.6916 - val_accuracy: 0.7576\n",
            "Epoch 6/25\n",
            "782/782 [==============================] - 18s 23ms/step - loss: 0.7188 - accuracy: 0.7453 - val_loss: 0.6373 - val_accuracy: 0.7748\n",
            "Epoch 7/25\n",
            "782/782 [==============================] - 19s 24ms/step - loss: 0.6599 - accuracy: 0.7660 - val_loss: 0.6824 - val_accuracy: 0.7638\n",
            "Epoch 8/25\n",
            "782/782 [==============================] - 19s 24ms/step - loss: 0.6249 - accuracy: 0.7781 - val_loss: 0.6343 - val_accuracy: 0.7843\n",
            "Epoch 9/25\n",
            "782/782 [==============================] - 18s 24ms/step - loss: 0.6075 - accuracy: 0.7867 - val_loss: 0.5847 - val_accuracy: 0.8008\n",
            "Epoch 10/25\n",
            "782/782 [==============================] - 19s 24ms/step - loss: 0.5655 - accuracy: 0.7991 - val_loss: 0.6242 - val_accuracy: 0.7787\n",
            "Epoch 11/25\n",
            "782/782 [==============================] - 18s 23ms/step - loss: 0.5507 - accuracy: 0.8089 - val_loss: 0.5417 - val_accuracy: 0.8151\n",
            "Epoch 12/25\n",
            "782/782 [==============================] - 18s 23ms/step - loss: 0.5450 - accuracy: 0.8093 - val_loss: 0.5206 - val_accuracy: 0.8203\n",
            "Epoch 13/25\n",
            "782/782 [==============================] - 19s 24ms/step - loss: 0.5140 - accuracy: 0.8201 - val_loss: 0.5354 - val_accuracy: 0.8160\n",
            "Epoch 14/25\n",
            "782/782 [==============================] - 19s 24ms/step - loss: 0.5025 - accuracy: 0.8233 - val_loss: 0.5394 - val_accuracy: 0.8118\n",
            "Epoch 15/25\n",
            "782/782 [==============================] - 19s 24ms/step - loss: 0.4924 - accuracy: 0.8229 - val_loss: 0.5156 - val_accuracy: 0.8242\n",
            "Epoch 16/25\n",
            "782/782 [==============================] - 18s 23ms/step - loss: 0.4759 - accuracy: 0.8327 - val_loss: 0.4968 - val_accuracy: 0.8313\n",
            "Epoch 17/25\n",
            "782/782 [==============================] - 19s 24ms/step - loss: 0.4658 - accuracy: 0.8350 - val_loss: 0.5163 - val_accuracy: 0.8220\n",
            "Epoch 18/25\n",
            "782/782 [==============================] - 18s 23ms/step - loss: 0.4660 - accuracy: 0.8362 - val_loss: 0.5256 - val_accuracy: 0.8180\n",
            "Epoch 19/25\n",
            "782/782 [==============================] - 18s 23ms/step - loss: 0.4480 - accuracy: 0.8430 - val_loss: 0.4920 - val_accuracy: 0.8351\n",
            "Epoch 20/25\n",
            "782/782 [==============================] - 18s 23ms/step - loss: 0.4370 - accuracy: 0.8480 - val_loss: 0.5655 - val_accuracy: 0.8101\n",
            "Epoch 21/25\n",
            "782/782 [==============================] - 18s 24ms/step - loss: 0.4305 - accuracy: 0.8471 - val_loss: 0.5442 - val_accuracy: 0.8156\n",
            "Epoch 22/25\n",
            "782/782 [==============================] - 18s 23ms/step - loss: 0.4220 - accuracy: 0.8519 - val_loss: 0.5395 - val_accuracy: 0.8185\n",
            "Epoch 23/25\n",
            "782/782 [==============================] - 18s 23ms/step - loss: 0.4232 - accuracy: 0.8509 - val_loss: 0.5223 - val_accuracy: 0.8234\n",
            "Epoch 24/25\n",
            "782/782 [==============================] - 18s 24ms/step - loss: 0.4105 - accuracy: 0.8545 - val_loss: 0.4825 - val_accuracy: 0.8412\n",
            "Epoch 25/25\n",
            "782/782 [==============================] - 18s 23ms/step - loss: 0.4041 - accuracy: 0.8580 - val_loss: 0.4928 - val_accuracy: 0.8354\n"
          ],
          "name": "stdout"
        }
      ]
    },
    {
      "cell_type": "code",
      "metadata": {
        "id": "FQF3JZ1EDT7I",
        "colab": {
          "base_uri": "https://localhost:8080/",
          "height": 621
        },
        "outputId": "a72401f7-6d65-41c3-f4f6-a9c6f5eca1a8"
      },
      "source": [
        "import matplotlib.pyplot as plt\n",
        "\n",
        "plt.figure(figsize=(20, 10))\n",
        "plt.subplot(1, 2, 1)\n",
        "plt.title(\"CNN Training and Validation Accuracy\")\n",
        "plt.plot(result.history[\"accuracy\"], label='Training Accuracy')\n",
        "plt.plot(result.history['val_accuracy'], label='Validation Accuracy')\n",
        "plt.legend(loc='lower right')\n",
        "plt.ylabel('accuracy')\n",
        "plt.xlabel('epoch')\n",
        "plt.subplot(1, 2, 2)\n",
        "plt.plot( result.history[\"loss\"], label='Training Loss')\n",
        "plt.plot( result.history[\"val_loss\"], label='Validation Loss')\n",
        "plt.legend(loc='upper right')\n",
        "plt.title('CNN Training and Validation Loss')\n",
        "plt.ylabel('loss')\n",
        "plt.xlabel('epoch')\n",
        "plt.show()"
      ],
      "execution_count": 23,
      "outputs": [
        {
          "output_type": "display_data",
          "data": {
            "image/png": "[encoded data removed]",
            "text/plain": [
              "<Figure size 1440x720 with 2 Axes>"
            ]
          },
          "metadata": {
            "tags": [],
            "needs_background": "light"
          }
        }
      ]
    },
    {
      "cell_type": "code",
      "metadata": {
        "id": "40-lXR1iBhJD",
        "colab": {
          "base_uri": "https://localhost:8080/"
        },
        "outputId": "b5b5b67a-5844-474c-f169-989cd0a7a500"
      },
      "source": [
        "\n",
        "# check performance on test\n",
        "scores = model.evaluate(x_test, y_test, verbose=1) \n",
        "print('Test loss:', scores[0])\n",
        "print('Test accuracy:', scores[1])"
      ],
      "execution_count": 24,
      "outputs": [
        {
          "output_type": "stream",
          "text": [
            "313/313 [==============================] - 2s 7ms/step - loss: 0.4928 - accuracy: 0.8354\n",
            "Test loss: 0.4928478002548218\n",
            "Test accuracy: 0.8353999853134155\n"
          ],
          "name": "stdout"
        }
      ]
    },
    {
      "cell_type": "code",
      "metadata": {
        "id": "FEnzhSPoDJWF"
      },
      "source": [
        ""
      ],
      "execution_count": 24,
      "outputs": []
    }
  ]
}